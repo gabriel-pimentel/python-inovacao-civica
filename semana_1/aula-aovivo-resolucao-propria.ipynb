{
 "cells": [
  {
   "cell_type": "markdown",
   "metadata": {},
   "source": [
    "# Exercício\n",
    "\n",
    "Construa um programa que:\n",
    " - Pergunte a usuária 2 números inteiros;\n",
    " - Crie uma lista numérica do intervalo;\n",
    " - Se o número for divisível por 3, substitua-o por \"Tecnologia\";\n",
    " - Se o número for divisível por 5, substitua-o por \"Cívica\";\n",
    " - Se o número for divisível por 3 e 5, substitua-o por \"Tecnologia Cívica\"."
   ]
  },
  {
   "cell_type": "markdown",
   "metadata": {},
   "source": [
    "### Pergunte a usuária 2 números inteiros;"
   ]
  },
  {
   "cell_type": "code",
   "execution_count": 18,
   "metadata": {},
   "outputs": [
    {
     "name": "stdout",
     "output_type": "stream",
     "text": [
      "Digite o primeiro número:10\n",
      "Digite o segundo número:100\n"
     ]
    }
   ],
   "source": [
    "num1 = int(input(\"Digite o primeiro número:\"))\n",
    "num2 = int(input(\"Digite o segundo número:\"))"
   ]
  },
  {
   "cell_type": "markdown",
   "metadata": {},
   "source": [
    "### Crie uma lista numérica do intervalo;"
   ]
  },
  {
   "cell_type": "code",
   "execution_count": 19,
   "metadata": {},
   "outputs": [
    {
     "name": "stdout",
     "output_type": "stream",
     "text": [
      "[10, 11, 12, 13, 14, 15, 16, 17, 18, 19, 20, 21, 22, 23, 24, 25, 26, 27, 28, 29, 30, 31, 32, 33, 34, 35, 36, 37, 38, 39, 40, 41, 42, 43, 44, 45, 46, 47, 48, 49, 50, 51, 52, 53, 54, 55, 56, 57, 58, 59, 60, 61, 62, 63, 64, 65, 66, 67, 68, 69, 70, 71, 72, 73, 74, 75, 76, 77, 78, 79, 80, 81, 82, 83, 84, 85, 86, 87, 88, 89, 90, 91, 92, 93, 94, 95, 96, 97, 98, 99, 100]\n"
     ]
    }
   ],
   "source": [
    "lista = list(range(num1, num2 + 1))\n",
    "print(lista)"
   ]
  },
  {
   "cell_type": "markdown",
   "metadata": {},
   "source": [
    "### Se o número for divisível por 3, substitua-o por \"Tecnologia\""
   ]
  },
  {
   "cell_type": "code",
   "execution_count": 20,
   "metadata": {},
   "outputs": [
    {
     "name": "stdout",
     "output_type": "stream",
     "text": [
      "[10, 11, 'Tecnologia', 13, 14, 'Tecnologia', 16, 17, 'Tecnologia', 19, 20, 'Tecnologia', 22, 23, 'Tecnologia', 25, 26, 'Tecnologia', 28, 29, 'Tecnologia', 31, 32, 'Tecnologia', 34, 35, 'Tecnologia', 37, 38, 'Tecnologia', 40, 41, 'Tecnologia', 43, 44, 'Tecnologia', 46, 47, 'Tecnologia', 49, 50, 'Tecnologia', 52, 53, 'Tecnologia', 55, 56, 'Tecnologia', 58, 59, 'Tecnologia', 61, 62, 'Tecnologia', 64, 65, 'Tecnologia', 67, 68, 'Tecnologia', 70, 71, 'Tecnologia', 73, 74, 'Tecnologia', 76, 77, 'Tecnologia', 79, 80, 'Tecnologia', 82, 83, 'Tecnologia', 85, 86, 'Tecnologia', 88, 89, 'Tecnologia', 91, 92, 'Tecnologia', 94, 95, 'Tecnologia', 97, 98, 'Tecnologia', 100]\n"
     ]
    }
   ],
   "source": [
    "for i in range(len(lista)):\n",
    "    if lista[i] % 3 == 0:\n",
    "        lista[i] = 'Tecnologia'\n",
    "print(lista)"
   ]
  },
  {
   "cell_type": "markdown",
   "metadata": {},
   "source": [
    "### Se o número for divisível por 5, substitua-o por \"Cívica\";"
   ]
  },
  {
   "cell_type": "code",
   "execution_count": 21,
   "metadata": {},
   "outputs": [
    {
     "name": "stdout",
     "output_type": "stream",
     "text": [
      "['Cívica', 11, 'Tecnologia', 13, 14, 'Tecnologia', 16, 17, 'Tecnologia', 19, 'Cívica', 'Tecnologia', 22, 23, 'Tecnologia', 'Cívica', 26, 'Tecnologia', 28, 29, 'Tecnologia', 31, 32, 'Tecnologia', 34, 'Cívica', 'Tecnologia', 37, 38, 'Tecnologia', 'Cívica', 41, 'Tecnologia', 43, 44, 'Tecnologia', 46, 47, 'Tecnologia', 49, 'Cívica', 'Tecnologia', 52, 53, 'Tecnologia', 'Cívica', 56, 'Tecnologia', 58, 59, 'Tecnologia', 61, 62, 'Tecnologia', 64, 'Cívica', 'Tecnologia', 67, 68, 'Tecnologia', 'Cívica', 71, 'Tecnologia', 73, 74, 'Tecnologia', 76, 77, 'Tecnologia', 79, 'Cívica', 'Tecnologia', 82, 83, 'Tecnologia', 'Cívica', 86, 'Tecnologia', 88, 89, 'Tecnologia', 91, 92, 'Tecnologia', 94, 'Cívica', 'Tecnologia', 97, 98, 'Tecnologia', 'Cívica']\n"
     ]
    }
   ],
   "source": [
    "for i in range(len(lista)):\n",
    "    if type(lista[i]) == str :\n",
    "        continue\n",
    "    \n",
    "    if lista[i] % 5 == 0:\n",
    "        lista[i] = 'Cívica'\n",
    "        \n",
    "print(lista)"
   ]
  },
  {
   "cell_type": "markdown",
   "metadata": {},
   "source": [
    "### Se o número for divisível por 3 e 5, substitua-o por \"Tecnologia Cívica\"."
   ]
  },
  {
   "cell_type": "code",
   "execution_count": 23,
   "metadata": {},
   "outputs": [
    {
     "ename": "TypeError",
     "evalue": "'<' not supported between instances of 'int' and 'range'",
     "output_type": "error",
     "traceback": [
      "\u001b[1;31m---------------------------------------------------------------------------\u001b[0m",
      "\u001b[1;31mTypeError\u001b[0m                                 Traceback (most recent call last)",
      "\u001b[1;32m<ipython-input-23-4c541172cf48>\u001b[0m in \u001b[0;36m<module>\u001b[1;34m\u001b[0m\n\u001b[0;32m      4\u001b[0m \u001b[1;33m\u001b[0m\u001b[0m\n\u001b[0;32m      5\u001b[0m     \u001b[1;32mif\u001b[0m \u001b[1;33m(\u001b[0m\u001b[0mlista\u001b[0m\u001b[1;33m[\u001b[0m\u001b[0mi\u001b[0m\u001b[1;33m]\u001b[0m \u001b[1;33m+\u001b[0m \u001b[1;36m1\u001b[0m\u001b[1;33m)\u001b[0m \u001b[1;33m%\u001b[0m \u001b[1;36m15\u001b[0m \u001b[1;33m==\u001b[0m \u001b[1;36m0\u001b[0m\u001b[1;33m:\u001b[0m\u001b[1;33m\u001b[0m\u001b[1;33m\u001b[0m\u001b[0m\n\u001b[1;32m----> 6\u001b[1;33m         \u001b[1;32mif\u001b[0m \u001b[0mi\u001b[0m \u001b[1;33m+\u001b[0m \u001b[1;36m1\u001b[0m \u001b[1;33m<\u001b[0m \u001b[0mrange\u001b[0m\u001b[1;33m(\u001b[0m\u001b[0mlen\u001b[0m\u001b[1;33m(\u001b[0m\u001b[0mlista\u001b[0m\u001b[1;33m)\u001b[0m\u001b[1;33m)\u001b[0m\u001b[1;33m:\u001b[0m\u001b[1;33m\u001b[0m\u001b[1;33m\u001b[0m\u001b[0m\n\u001b[0m\u001b[0;32m      7\u001b[0m             \u001b[0mlista\u001b[0m\u001b[1;33m[\u001b[0m\u001b[0mi\u001b[0m\u001b[1;33m+\u001b[0m\u001b[1;36m1\u001b[0m\u001b[1;33m]\u001b[0m \u001b[1;33m=\u001b[0m \u001b[1;34m'Tecnologia Cívica'\u001b[0m\u001b[1;33m\u001b[0m\u001b[1;33m\u001b[0m\u001b[0m\n\u001b[0;32m      8\u001b[0m \u001b[1;33m\u001b[0m\u001b[0m\n",
      "\u001b[1;31mTypeError\u001b[0m: '<' not supported between instances of 'int' and 'range'"
     ]
    }
   ],
   "source": [
    "for i in range(len(lista)):\n",
    "    if type(lista[i]) == str :\n",
    "        continue\n",
    "    \n",
    "    if (lista[i] + 1) % 15 == 0:\n",
    "        if (i  1 < len(lista):\n",
    "            lista[i+1] = 'Tecnologia Cívica'\n",
    "        \n",
    "print(lista)"
   ]
  },
  {
   "cell_type": "code",
   "execution_count": null,
   "metadata": {},
   "outputs": [],
   "source": []
  }
 ],
 "metadata": {
  "kernelspec": {
   "display_name": "Python 3",
   "language": "python",
   "name": "python3"
  },
  "language_info": {
   "codemirror_mode": {
    "name": "ipython",
    "version": 3
   },
   "file_extension": ".py",
   "mimetype": "text/x-python",
   "name": "python",
   "nbconvert_exporter": "python",
   "pygments_lexer": "ipython3",
   "version": "3.7.6"
  }
 },
 "nbformat": 4,
 "nbformat_minor": 5
}
